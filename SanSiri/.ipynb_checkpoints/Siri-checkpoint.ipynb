{
 "cells": [
  {
   "cell_type": "code",
   "execution_count": 2,
   "id": "117dc49e-3587-4717-97d4-39e64290f343",
   "metadata": {},
   "outputs": [],
   "source": [
    "import pandas\n",
    "import numpy as np\n",
    "import matplotlib.pyplot as plt\n",
    "import yfinance as yf\n",
    "from sklearn.preprocessing import MinMaxScaler\n",
    "\n",
    "import torch\n",
    "import torch.nn as nn"
   ]
  },
  {
   "cell_type": "code",
   "execution_count": 3,
   "id": "6919e685-8309-4cd9-9678-d283262dc6a5",
   "metadata": {},
   "outputs": [
    {
     "name": "stderr",
     "output_type": "stream",
     "text": [
      "[*********************100%***********************]  1 of 1 completed\n"
     ]
    }
   ],
   "source": [
    "data_ticker = 'SIRI.BK'\n",
    "data_index = yf.download (data_ticker,start=\"2014-07-10\", end=\"2024-08-22\")"
   ]
  },
  {
   "cell_type": "code",
   "execution_count": 4,
   "id": "3b0f09fb-432d-4d78-bd3b-131667b59f3e",
   "metadata": {},
   "outputs": [],
   "source": [
    "data_index.reset_index(inplace=True)"
   ]
  },
  {
   "cell_type": "code",
   "execution_count": 5,
   "id": "b6a62012-b7d9-4b9a-a615-0f885c1be164",
   "metadata": {},
   "outputs": [
    {
     "name": "stdout",
     "output_type": "stream",
     "text": [
      "<class 'pandas.core.frame.DataFrame'>\n",
      "RangeIndex: 2459 entries, 0 to 2458\n",
      "Data columns (total 7 columns):\n",
      " #   Column     Non-Null Count  Dtype         \n",
      "---  ------     --------------  -----         \n",
      " 0   Date       2459 non-null   datetime64[ns]\n",
      " 1   Open       2459 non-null   float64       \n",
      " 2   High       2459 non-null   float64       \n",
      " 3   Low        2459 non-null   float64       \n",
      " 4   Close      2459 non-null   float64       \n",
      " 5   Adj Close  2459 non-null   float64       \n",
      " 6   Volume     2459 non-null   int64         \n",
      "dtypes: datetime64[ns](1), float64(5), int64(1)\n",
      "memory usage: 134.6 KB\n"
     ]
    }
   ],
   "source": [
    "data_index.info()"
   ]
  },
  {
   "cell_type": "code",
   "execution_count": 6,
   "id": "87f6f4a5-df09-4af1-b140-7a9d4df1a9c6",
   "metadata": {},
   "outputs": [
    {
     "data": {
      "text/html": [
       "<div>\n",
       "<style scoped>\n",
       "    .dataframe tbody tr th:only-of-type {\n",
       "        vertical-align: middle;\n",
       "    }\n",
       "\n",
       "    .dataframe tbody tr th {\n",
       "        vertical-align: top;\n",
       "    }\n",
       "\n",
       "    .dataframe thead th {\n",
       "        text-align: right;\n",
       "    }\n",
       "</style>\n",
       "<table border=\"1\" class=\"dataframe\">\n",
       "  <thead>\n",
       "    <tr style=\"text-align: right;\">\n",
       "      <th></th>\n",
       "      <th>Date</th>\n",
       "      <th>Open</th>\n",
       "      <th>High</th>\n",
       "      <th>Low</th>\n",
       "      <th>Close</th>\n",
       "      <th>Adj Close</th>\n",
       "      <th>Volume</th>\n",
       "    </tr>\n",
       "  </thead>\n",
       "  <tbody>\n",
       "    <tr>\n",
       "      <th>count</th>\n",
       "      <td>2459</td>\n",
       "      <td>2459.000000</td>\n",
       "      <td>2459.000000</td>\n",
       "      <td>2459.000000</td>\n",
       "      <td>2459.000000</td>\n",
       "      <td>2459.000000</td>\n",
       "      <td>2.459000e+03</td>\n",
       "    </tr>\n",
       "    <tr>\n",
       "      <th>mean</th>\n",
       "      <td>2019-07-27 01:02:39.577063936</td>\n",
       "      <td>1.533825</td>\n",
       "      <td>1.552983</td>\n",
       "      <td>1.513715</td>\n",
       "      <td>1.532033</td>\n",
       "      <td>1.039161</td>\n",
       "      <td>1.040756e+08</td>\n",
       "    </tr>\n",
       "    <tr>\n",
       "      <th>min</th>\n",
       "      <td>2014-07-10 00:00:00</td>\n",
       "      <td>0.550000</td>\n",
       "      <td>0.560000</td>\n",
       "      <td>0.520000</td>\n",
       "      <td>0.540000</td>\n",
       "      <td>0.400934</td>\n",
       "      <td>0.000000e+00</td>\n",
       "    </tr>\n",
       "    <tr>\n",
       "      <th>25%</th>\n",
       "      <td>2017-01-17 12:00:00</td>\n",
       "      <td>1.240000</td>\n",
       "      <td>1.260000</td>\n",
       "      <td>1.230000</td>\n",
       "      <td>1.240000</td>\n",
       "      <td>0.841557</td>\n",
       "      <td>3.341495e+07</td>\n",
       "    </tr>\n",
       "    <tr>\n",
       "      <th>50%</th>\n",
       "      <td>2019-07-24 00:00:00</td>\n",
       "      <td>1.630000</td>\n",
       "      <td>1.650000</td>\n",
       "      <td>1.620000</td>\n",
       "      <td>1.630000</td>\n",
       "      <td>0.961283</td>\n",
       "      <td>6.048590e+07</td>\n",
       "    </tr>\n",
       "    <tr>\n",
       "      <th>75%</th>\n",
       "      <td>2022-02-03 12:00:00</td>\n",
       "      <td>1.820000</td>\n",
       "      <td>1.840000</td>\n",
       "      <td>1.790000</td>\n",
       "      <td>1.810000</td>\n",
       "      <td>1.209930</td>\n",
       "      <td>1.163204e+08</td>\n",
       "    </tr>\n",
       "    <tr>\n",
       "      <th>max</th>\n",
       "      <td>2024-08-21 00:00:00</td>\n",
       "      <td>2.480000</td>\n",
       "      <td>2.480000</td>\n",
       "      <td>2.440000</td>\n",
       "      <td>2.440000</td>\n",
       "      <td>1.927912</td>\n",
       "      <td>2.145637e+09</td>\n",
       "    </tr>\n",
       "    <tr>\n",
       "      <th>std</th>\n",
       "      <td>NaN</td>\n",
       "      <td>0.413199</td>\n",
       "      <td>0.416838</td>\n",
       "      <td>0.408399</td>\n",
       "      <td>0.412545</td>\n",
       "      <td>0.328748</td>\n",
       "      <td>1.470400e+08</td>\n",
       "    </tr>\n",
       "  </tbody>\n",
       "</table>\n",
       "</div>"
      ],
      "text/plain": [
       "                                Date         Open         High          Low  \\\n",
       "count                           2459  2459.000000  2459.000000  2459.000000   \n",
       "mean   2019-07-27 01:02:39.577063936     1.533825     1.552983     1.513715   \n",
       "min              2014-07-10 00:00:00     0.550000     0.560000     0.520000   \n",
       "25%              2017-01-17 12:00:00     1.240000     1.260000     1.230000   \n",
       "50%              2019-07-24 00:00:00     1.630000     1.650000     1.620000   \n",
       "75%              2022-02-03 12:00:00     1.820000     1.840000     1.790000   \n",
       "max              2024-08-21 00:00:00     2.480000     2.480000     2.440000   \n",
       "std                              NaN     0.413199     0.416838     0.408399   \n",
       "\n",
       "             Close    Adj Close        Volume  \n",
       "count  2459.000000  2459.000000  2.459000e+03  \n",
       "mean      1.532033     1.039161  1.040756e+08  \n",
       "min       0.540000     0.400934  0.000000e+00  \n",
       "25%       1.240000     0.841557  3.341495e+07  \n",
       "50%       1.630000     0.961283  6.048590e+07  \n",
       "75%       1.810000     1.209930  1.163204e+08  \n",
       "max       2.440000     1.927912  2.145637e+09  \n",
       "std       0.412545     0.328748  1.470400e+08  "
      ]
     },
     "execution_count": 6,
     "metadata": {},
     "output_type": "execute_result"
    }
   ],
   "source": [
    "data_index.describe()"
   ]
  },
  {
   "cell_type": "code",
   "execution_count": 7,
   "id": "88f0f38c-8864-4d05-a234-2ab57c1d477f",
   "metadata": {},
   "outputs": [
    {
     "data": {
      "text/html": [
       "<div>\n",
       "<style scoped>\n",
       "    .dataframe tbody tr th:only-of-type {\n",
       "        vertical-align: middle;\n",
       "    }\n",
       "\n",
       "    .dataframe tbody tr th {\n",
       "        vertical-align: top;\n",
       "    }\n",
       "\n",
       "    .dataframe thead th {\n",
       "        text-align: right;\n",
       "    }\n",
       "</style>\n",
       "<table border=\"1\" class=\"dataframe\">\n",
       "  <thead>\n",
       "    <tr style=\"text-align: right;\">\n",
       "      <th></th>\n",
       "      <th>Date</th>\n",
       "      <th>Close</th>\n",
       "    </tr>\n",
       "  </thead>\n",
       "  <tbody>\n",
       "    <tr>\n",
       "      <th>0</th>\n",
       "      <td>2014-07-10</td>\n",
       "      <td>2.112410</td>\n",
       "    </tr>\n",
       "    <tr>\n",
       "      <th>1</th>\n",
       "      <td>2014-07-14</td>\n",
       "      <td>2.112410</td>\n",
       "    </tr>\n",
       "    <tr>\n",
       "      <th>2</th>\n",
       "      <td>2014-07-15</td>\n",
       "      <td>2.076607</td>\n",
       "    </tr>\n",
       "    <tr>\n",
       "      <th>3</th>\n",
       "      <td>2014-07-16</td>\n",
       "      <td>2.094508</td>\n",
       "    </tr>\n",
       "    <tr>\n",
       "      <th>4</th>\n",
       "      <td>2014-07-17</td>\n",
       "      <td>2.076607</td>\n",
       "    </tr>\n",
       "    <tr>\n",
       "      <th>...</th>\n",
       "      <td>...</td>\n",
       "      <td>...</td>\n",
       "    </tr>\n",
       "    <tr>\n",
       "      <th>2454</th>\n",
       "      <td>2024-08-15</td>\n",
       "      <td>1.540000</td>\n",
       "    </tr>\n",
       "    <tr>\n",
       "      <th>2455</th>\n",
       "      <td>2024-08-16</td>\n",
       "      <td>1.600000</td>\n",
       "    </tr>\n",
       "    <tr>\n",
       "      <th>2456</th>\n",
       "      <td>2024-08-19</td>\n",
       "      <td>1.600000</td>\n",
       "    </tr>\n",
       "    <tr>\n",
       "      <th>2457</th>\n",
       "      <td>2024-08-20</td>\n",
       "      <td>1.630000</td>\n",
       "    </tr>\n",
       "    <tr>\n",
       "      <th>2458</th>\n",
       "      <td>2024-08-21</td>\n",
       "      <td>1.730000</td>\n",
       "    </tr>\n",
       "  </tbody>\n",
       "</table>\n",
       "<p>2459 rows × 2 columns</p>\n",
       "</div>"
      ],
      "text/plain": [
       "           Date     Close\n",
       "0    2014-07-10  2.112410\n",
       "1    2014-07-14  2.112410\n",
       "2    2014-07-15  2.076607\n",
       "3    2014-07-16  2.094508\n",
       "4    2014-07-17  2.076607\n",
       "...         ...       ...\n",
       "2454 2024-08-15  1.540000\n",
       "2455 2024-08-16  1.600000\n",
       "2456 2024-08-19  1.600000\n",
       "2457 2024-08-20  1.630000\n",
       "2458 2024-08-21  1.730000\n",
       "\n",
       "[2459 rows x 2 columns]"
      ]
     },
     "execution_count": 7,
     "metadata": {},
     "output_type": "execute_result"
    }
   ],
   "source": [
    "data = data_index[['Date', 'Close']]\n",
    "data"
   ]
  },
  {
   "cell_type": "code",
   "execution_count": 48,
   "id": "51c1960d-6ef9-4749-832e-f4c93df2a694",
   "metadata": {},
   "outputs": [
    {
     "data": {
      "text/plain": [
       "'cuda:0'"
      ]
     },
     "execution_count": 48,
     "metadata": {},
     "output_type": "execute_result"
    }
   ],
   "source": [
    "device = 'cuda:0' if torch.cuda.is_available() else 'cpu'\n",
    "device"
   ]
  },
  {
   "cell_type": "code",
   "execution_count": 8,
   "id": "3e732e4c-ac8d-4c98-9850-044af9db2c76",
   "metadata": {},
   "outputs": [
    {
     "data": {
      "text/plain": [
       "[<matplotlib.lines.Line2D at 0x244ba246210>]"
      ]
     },
     "execution_count": 8,
     "metadata": {},
     "output_type": "execute_result"
    },
    {
     "data": {
      "image/png": "[encoded data removed]",
      "text/plain": [
       "<Figure size 1200x600 with 1 Axes>"
      ]
     },
     "metadata": {},
     "output_type": "display_data"
    }
   ],
   "source": [
    "# Plotting\n",
    "plt.figure(figsize=(12, 6))\n",
    "plt.plot(data['Date'], data['Close'])\n"
   ]
  },
  {
   "cell_type": "code",
   "execution_count": 15,
   "id": "164cab96-0893-49e6-aba1-18db2aa83936",
   "metadata": {},
   "outputs": [
    {
     "data": {
      "text/html": [
       "<div>\n",
       "<style scoped>\n",
       "    .dataframe tbody tr th:only-of-type {\n",
       "        vertical-align: middle;\n",
       "    }\n",
       "\n",
       "    .dataframe tbody tr th {\n",
       "        vertical-align: top;\n",
       "    }\n",
       "\n",
       "    .dataframe thead th {\n",
       "        text-align: right;\n",
       "    }\n",
       "</style>\n",
       "<table border=\"1\" class=\"dataframe\">\n",
       "  <thead>\n",
       "    <tr style=\"text-align: right;\">\n",
       "      <th></th>\n",
       "      <th>Close</th>\n",
       "      <th>Close(t-1)</th>\n",
       "      <th>Close(t-2)</th>\n",
       "      <th>Close(t-3)</th>\n",
       "      <th>Close(t-4)</th>\n",
       "      <th>Close(t-5)</th>\n",
       "      <th>Close(t-6)</th>\n",
       "      <th>Close(t-7)</th>\n",
       "    </tr>\n",
       "    <tr>\n",
       "      <th>Date</th>\n",
       "      <th></th>\n",
       "      <th></th>\n",
       "      <th></th>\n",
       "      <th></th>\n",
       "      <th></th>\n",
       "      <th></th>\n",
       "      <th></th>\n",
       "      <th></th>\n",
       "    </tr>\n",
       "  </thead>\n",
       "  <tbody>\n",
       "    <tr>\n",
       "      <th>2014-07-22</th>\n",
       "      <td>2.094508</td>\n",
       "      <td>2.148214</td>\n",
       "      <td>2.076607</td>\n",
       "      <td>2.076607</td>\n",
       "      <td>2.094508</td>\n",
       "      <td>2.076607</td>\n",
       "      <td>2.112410</td>\n",
       "      <td>2.112410</td>\n",
       "    </tr>\n",
       "    <tr>\n",
       "      <th>2014-07-23</th>\n",
       "      <td>2.237723</td>\n",
       "      <td>2.094508</td>\n",
       "      <td>2.148214</td>\n",
       "      <td>2.076607</td>\n",
       "      <td>2.076607</td>\n",
       "      <td>2.094508</td>\n",
       "      <td>2.076607</td>\n",
       "      <td>2.112410</td>\n",
       "    </tr>\n",
       "    <tr>\n",
       "      <th>2014-07-24</th>\n",
       "      <td>2.219821</td>\n",
       "      <td>2.237723</td>\n",
       "      <td>2.094508</td>\n",
       "      <td>2.148214</td>\n",
       "      <td>2.076607</td>\n",
       "      <td>2.076607</td>\n",
       "      <td>2.094508</td>\n",
       "      <td>2.076607</td>\n",
       "    </tr>\n",
       "    <tr>\n",
       "      <th>2014-07-25</th>\n",
       "      <td>2.166116</td>\n",
       "      <td>2.219821</td>\n",
       "      <td>2.237723</td>\n",
       "      <td>2.094508</td>\n",
       "      <td>2.148214</td>\n",
       "      <td>2.076607</td>\n",
       "      <td>2.076607</td>\n",
       "      <td>2.094508</td>\n",
       "    </tr>\n",
       "    <tr>\n",
       "      <th>2014-07-28</th>\n",
       "      <td>2.112410</td>\n",
       "      <td>2.166116</td>\n",
       "      <td>2.219821</td>\n",
       "      <td>2.237723</td>\n",
       "      <td>2.094508</td>\n",
       "      <td>2.148214</td>\n",
       "      <td>2.076607</td>\n",
       "      <td>2.076607</td>\n",
       "    </tr>\n",
       "    <tr>\n",
       "      <th>...</th>\n",
       "      <td>...</td>\n",
       "      <td>...</td>\n",
       "      <td>...</td>\n",
       "      <td>...</td>\n",
       "      <td>...</td>\n",
       "      <td>...</td>\n",
       "      <td>...</td>\n",
       "      <td>...</td>\n",
       "    </tr>\n",
       "    <tr>\n",
       "      <th>2024-08-15</th>\n",
       "      <td>1.540000</td>\n",
       "      <td>1.540000</td>\n",
       "      <td>1.590000</td>\n",
       "      <td>1.560000</td>\n",
       "      <td>1.570000</td>\n",
       "      <td>1.570000</td>\n",
       "      <td>1.570000</td>\n",
       "      <td>1.580000</td>\n",
       "    </tr>\n",
       "    <tr>\n",
       "      <th>2024-08-16</th>\n",
       "      <td>1.600000</td>\n",
       "      <td>1.540000</td>\n",
       "      <td>1.540000</td>\n",
       "      <td>1.590000</td>\n",
       "      <td>1.560000</td>\n",
       "      <td>1.570000</td>\n",
       "      <td>1.570000</td>\n",
       "      <td>1.570000</td>\n",
       "    </tr>\n",
       "    <tr>\n",
       "      <th>2024-08-19</th>\n",
       "      <td>1.600000</td>\n",
       "      <td>1.600000</td>\n",
       "      <td>1.540000</td>\n",
       "      <td>1.540000</td>\n",
       "      <td>1.590000</td>\n",
       "      <td>1.560000</td>\n",
       "      <td>1.570000</td>\n",
       "      <td>1.570000</td>\n",
       "    </tr>\n",
       "    <tr>\n",
       "      <th>2024-08-20</th>\n",
       "      <td>1.630000</td>\n",
       "      <td>1.600000</td>\n",
       "      <td>1.600000</td>\n",
       "      <td>1.540000</td>\n",
       "      <td>1.540000</td>\n",
       "      <td>1.590000</td>\n",
       "      <td>1.560000</td>\n",
       "      <td>1.570000</td>\n",
       "    </tr>\n",
       "    <tr>\n",
       "      <th>2024-08-21</th>\n",
       "      <td>1.730000</td>\n",
       "      <td>1.630000</td>\n",
       "      <td>1.600000</td>\n",
       "      <td>1.600000</td>\n",
       "      <td>1.540000</td>\n",
       "      <td>1.540000</td>\n",
       "      <td>1.590000</td>\n",
       "      <td>1.560000</td>\n",
       "    </tr>\n",
       "  </tbody>\n",
       "</table>\n",
       "<p>2452 rows × 8 columns</p>\n",
       "</div>"
      ],
      "text/plain": [
       "               Close  Close(t-1)  Close(t-2)  Close(t-3)  Close(t-4)  \\\n",
       "Date                                                                   \n",
       "2014-07-22  2.094508    2.148214    2.076607    2.076607    2.094508   \n",
       "2014-07-23  2.237723    2.094508    2.148214    2.076607    2.076607   \n",
       "2014-07-24  2.219821    2.237723    2.094508    2.148214    2.076607   \n",
       "2014-07-25  2.166116    2.219821    2.237723    2.094508    2.148214   \n",
       "2014-07-28  2.112410    2.166116    2.219821    2.237723    2.094508   \n",
       "...              ...         ...         ...         ...         ...   \n",
       "2024-08-15  1.540000    1.540000    1.590000    1.560000    1.570000   \n",
       "2024-08-16  1.600000    1.540000    1.540000    1.590000    1.560000   \n",
       "2024-08-19  1.600000    1.600000    1.540000    1.540000    1.590000   \n",
       "2024-08-20  1.630000    1.600000    1.600000    1.540000    1.540000   \n",
       "2024-08-21  1.730000    1.630000    1.600000    1.600000    1.540000   \n",
       "\n",
       "            Close(t-5)  Close(t-6)  Close(t-7)  \n",
       "Date                                            \n",
       "2014-07-22    2.076607    2.112410    2.112410  \n",
       "2014-07-23    2.094508    2.076607    2.112410  \n",
       "2014-07-24    2.076607    2.094508    2.076607  \n",
       "2014-07-25    2.076607    2.076607    2.094508  \n",
       "2014-07-28    2.148214    2.076607    2.076607  \n",
       "...                ...         ...         ...  \n",
       "2024-08-15    1.570000    1.570000    1.580000  \n",
       "2024-08-16    1.570000    1.570000    1.570000  \n",
       "2024-08-19    1.560000    1.570000    1.570000  \n",
       "2024-08-20    1.590000    1.560000    1.570000  \n",
       "2024-08-21    1.540000    1.590000    1.560000  \n",
       "\n",
       "[2452 rows x 8 columns]"
      ]
     },
     "execution_count": 15,
     "metadata": {},
     "output_type": "execute_result"
    }
   ],
   "source": [
    "from copy import deepcopy as dc\n",
    "\n",
    "#Here I create lagged features for an LSTM model \n",
    "def prepare_dataframe_for_lstm(df, n_steps):\n",
    "    df = dc(df)\n",
    "\n",
    "    df.set_index('Date', inplace=True)\n",
    "\n",
    "    for i in range(1, n_steps+1):\n",
    "        df[f'Close(t-{i})'] = df['Close'].shift(i)\n",
    "\n",
    "    df.dropna(inplace=True)\n",
    "\n",
    "    return df\n",
    "\n",
    "lookback = 7\n",
    "shifted_df = prepare_dataframe_for_lstm(data, lookback)\n",
    "shifted_df"
   ]
  },
  {
   "cell_type": "code",
   "execution_count": 21,
   "id": "dbf65b86-29d6-4e5a-ae80-9e5b480d02aa",
   "metadata": {},
   "outputs": [
    {
     "data": {
      "text/plain": [
       "array([[2.09450793, 2.1482141 , 2.07660699, ..., 2.07660699, 2.11241007,\n",
       "        2.11241007],\n",
       "       [2.23772311, 2.09450793, 2.1482141 , ..., 2.09450793, 2.07660699,\n",
       "        2.11241007],\n",
       "       [2.21982098, 2.23772311, 2.09450793, ..., 2.07660699, 2.09450793,\n",
       "        2.07660699],\n",
       "       ...,\n",
       "       [1.60000002, 1.60000002, 1.53999996, ..., 1.55999994, 1.57000005,\n",
       "        1.57000005],\n",
       "       [1.63      , 1.60000002, 1.60000002, ..., 1.59000003, 1.55999994,\n",
       "        1.57000005],\n",
       "       [1.73000002, 1.63      , 1.60000002, ..., 1.53999996, 1.59000003,\n",
       "        1.55999994]])"
      ]
     },
     "execution_count": 21,
     "metadata": {},
     "output_type": "execute_result"
    }
   ],
   "source": [
    "shifted_df_as_np = shifted_df.to_numpy()\n",
    "\n",
    "shifted_df_as_np"
   ]
  },
  {
   "cell_type": "code",
   "execution_count": 23,
   "id": "f158eba0-d9fa-4e89-abe4-45287c98ebe1",
   "metadata": {},
   "outputs": [
    {
     "data": {
      "text/plain": [
       "array([[0.63632409, 0.69285689, 0.61748099, ..., 0.61748099, 0.65516844,\n",
       "        0.65516844],\n",
       "       [0.7870769 , 0.63632409, 0.69285689, ..., 0.63632409, 0.61748099,\n",
       "        0.65516844],\n",
       "       [0.76823255, 0.7870769 , 0.63632409, ..., 0.61748099, 0.63632409,\n",
       "        0.61748099],\n",
       "       ...,\n",
       "       [0.11578946, 0.11578946, 0.0526315 , ..., 0.07368411, 0.08421054,\n",
       "        0.08421054],\n",
       "       [0.14736837, 0.11578946, 0.11578946, ..., 0.10526315, 0.07368411,\n",
       "        0.08421054],\n",
       "       [0.25263155, 0.14736837, 0.11578946, ..., 0.0526315 , 0.10526315,\n",
       "        0.07368411]])"
      ]
     },
     "execution_count": 23,
     "metadata": {},
     "output_type": "execute_result"
    }
   ],
   "source": [
    "from sklearn.preprocessing import MinMaxScaler\n",
    "\n",
    "scaler = MinMaxScaler(feature_range=(-1, 1))\n",
    "shifted_df_as_np = scaler.fit_transform(shifted_df_as_np)\n",
    "\n",
    "shifted_df_as_np"
   ]
  },
  {
   "cell_type": "code",
   "execution_count": 25,
   "id": "8851d003-de34-49c3-a461-dd0c9c86b8fd",
   "metadata": {},
   "outputs": [
    {
     "data": {
      "text/plain": [
       "((2452, 7), (2452,))"
      ]
     },
     "execution_count": 25,
     "metadata": {},
     "output_type": "execute_result"
    }
   ],
   "source": [
    "X = shifted_df_as_np[:, 1:]\n",
    "y = shifted_df_as_np[:, 0]\n",
    "\n",
    "X.shape, y.shape"
   ]
  },
  {
   "cell_type": "code",
   "execution_count": 27,
   "id": "0f11eabf-9c9c-454f-9e8f-b3cec1d8e738",
   "metadata": {},
   "outputs": [
    {
     "data": {
      "text/plain": [
       "array([[0.65516844, 0.65516844, 0.61748099, ..., 0.61748099, 0.61748099,\n",
       "        0.69285689],\n",
       "       [0.65516844, 0.61748099, 0.63632409, ..., 0.61748099, 0.69285689,\n",
       "        0.63632409],\n",
       "       [0.61748099, 0.63632409, 0.61748099, ..., 0.69285689, 0.63632409,\n",
       "        0.7870769 ],\n",
       "       ...,\n",
       "       [0.08421054, 0.08421054, 0.07368411, ..., 0.0526315 , 0.0526315 ,\n",
       "        0.11578946],\n",
       "       [0.08421054, 0.07368411, 0.10526315, ..., 0.0526315 , 0.11578946,\n",
       "        0.11578946],\n",
       "       [0.07368411, 0.10526315, 0.0526315 , ..., 0.11578946, 0.11578946,\n",
       "        0.14736837]])"
      ]
     },
     "execution_count": 27,
     "metadata": {},
     "output_type": "execute_result"
    }
   ],
   "source": [
    "X = dc(np.flip(X, axis=1))\n",
    "X"
   ]
  },
  {
   "cell_type": "code",
   "execution_count": 29,
   "id": "68f61d7f-b407-4b10-bc14-2dd49ac69407",
   "metadata": {},
   "outputs": [
    {
     "data": {
      "text/plain": [
       "2329"
      ]
     },
     "execution_count": 29,
     "metadata": {},
     "output_type": "execute_result"
    }
   ],
   "source": [
    "split_index = int(len(X) * 0.95)\n",
    "\n",
    "split_index"
   ]
  },
  {
   "cell_type": "code",
   "execution_count": 31,
   "id": "3d75025b-b889-4247-9af0-6051f740bd91",
   "metadata": {},
   "outputs": [
    {
     "data": {
      "text/plain": [
       "((2329, 7), (123, 7), (2329,), (123,))"
      ]
     },
     "execution_count": 31,
     "metadata": {},
     "output_type": "execute_result"
    }
   ],
   "source": [
    "X_train = X[:split_index]\n",
    "X_test = X[split_index:]\n",
    "\n",
    "y_train = y[:split_index]\n",
    "y_test = y[split_index:]\n",
    "\n",
    "X_train.shape, X_test.shape, y_train.shape, y_test.shape"
   ]
  },
  {
   "cell_type": "code",
   "execution_count": 33,
   "id": "1694d8e7-2750-4022-bf17-9ee5e4c8d3d2",
   "metadata": {},
   "outputs": [
    {
     "data": {
      "text/plain": [
       "((2329, 7, 1), (123, 7, 1), (2329, 1), (123, 1))"
      ]
     },
     "execution_count": 33,
     "metadata": {},
     "output_type": "execute_result"
    }
   ],
   "source": [
    "X_train = X_train.reshape((-1, lookback, 1))\n",
    "X_test = X_test.reshape((-1, lookback, 1))\n",
    "\n",
    "y_train = y_train.reshape((-1, 1))\n",
    "y_test = y_test.reshape((-1, 1))\n",
    "\n",
    "X_train.shape, X_test.shape, y_train.shape, y_test.shape"
   ]
  },
  {
   "cell_type": "code",
   "execution_count": 35,
   "id": "84636560-3eb0-4fbd-9f75-0697664e57d1",
   "metadata": {},
   "outputs": [
    {
     "data": {
      "text/plain": [
       "(torch.Size([2329, 7, 1]),\n",
       " torch.Size([123, 7, 1]),\n",
       " torch.Size([2329, 1]),\n",
       " torch.Size([123, 1]))"
      ]
     },
     "execution_count": 35,
     "metadata": {},
     "output_type": "execute_result"
    }
   ],
   "source": [
    "#here i change train and test set to PytorchTensor\n",
    "\n",
    "X_train = torch.tensor(X_train).float()\n",
    "y_train = torch.tensor(y_train).float()\n",
    "X_test = torch.tensor(X_test).float()\n",
    "y_test = torch.tensor(y_test).float()\n",
    "\n",
    "X_train.shape, X_test.shape, y_train.shape, y_test.shape"
   ]
  },
  {
   "cell_type": "code",
   "execution_count": 37,
   "id": "004b6fe5-9e94-4248-8d9a-51c8b4b8aa03",
   "metadata": {},
   "outputs": [],
   "source": [
    "from torch.utils.data import Dataset\n",
    "\n",
    "#create dataset \n",
    "class TimeSeriesDataset(Dataset):\n",
    "    def __init__(self, X, y):\n",
    "        self.X = X\n",
    "        self.y = y\n",
    "\n",
    "    def __len__(self):\n",
    "        return len(self.X)\n",
    "\n",
    "    def __getitem__(self, i):\n",
    "        return self.X[i], self.y[i]\n",
    "\n",
    "train_dataset = TimeSeriesDataset(X_train, y_train)\n",
    "test_dataset = TimeSeriesDataset(X_test, y_test)"
   ]
  },
  {
   "cell_type": "code",
   "execution_count": 40,
   "id": "7bdce99a-3822-4cfb-a8f4-4ed4d6943829",
   "metadata": {},
   "outputs": [
    {
     "data": {
      "text/plain": [
       "<__main__.TimeSeriesDataset at 0x244b9c58510>"
      ]
     },
     "execution_count": 40,
     "metadata": {},
     "output_type": "execute_result"
    }
   ],
   "source": [
    "train_dataset"
   ]
  },
  {
   "cell_type": "code",
   "execution_count": 133,
   "id": "5623f7b7-a72d-4978-998d-8f7423d55525",
   "metadata": {},
   "outputs": [],
   "source": [
    "from torch.utils.data import DataLoader\n",
    "\n",
    "batch_size = 16\n",
    "\n",
    "train_loader = DataLoader(train_dataset, batch_size=batch_size, shuffle=True)\n",
    "test_loader = DataLoader(test_dataset, batch_size=batch_size, shuffle=False)"
   ]
  },
  {
   "cell_type": "code",
   "execution_count": 135,
   "id": "3db39b5f-f9a3-4186-9bb8-ddd20976d00c",
   "metadata": {},
   "outputs": [
    {
     "name": "stdout",
     "output_type": "stream",
     "text": [
      "torch.Size([16, 7, 1]) torch.Size([16, 1])\n"
     ]
    }
   ],
   "source": [
    "for _, batch in enumerate(train_loader):\n",
    "    x_batch, y_batch = batch[0].to(device), batch[1].to(device)\n",
    "    print(x_batch.shape, y_batch.shape)\n",
    "    break"
   ]
  },
  {
   "cell_type": "code",
   "execution_count": 137,
   "id": "baca88f6-5cb5-4b0b-89cf-a8b3434e517b",
   "metadata": {},
   "outputs": [
    {
     "data": {
      "text/plain": [
       "LSTM(\n",
       "  (lstm): LSTM(1, 4, batch_first=True)\n",
       "  (fc): Linear(in_features=4, out_features=1, bias=True)\n",
       ")"
      ]
     },
     "execution_count": 137,
     "metadata": {},
     "output_type": "execute_result"
    }
   ],
   "source": [
    "#creating our model\n",
    "#self will take in input_size the features 1 for each step of the feature if only have 1 feature we input 1\n",
    "# total of (7) featureswill parse into hidden size's dimension\n",
    "\n",
    "class LSTM(nn.Module):\n",
    "    def __init__(self, input_size, hidden_size, num_stacked_layers):\n",
    "        super().__init__()\n",
    "        self.hidden_size = hidden_size\n",
    "        self.num_stacked_layers = num_stacked_layers\n",
    "\n",
    "        self.lstm = nn.LSTM(input_size, hidden_size, num_stacked_layers,\n",
    "                            batch_first=True)\n",
    "\n",
    "        self.fc = nn.Linear(hidden_size, 1)\n",
    "\n",
    "    def forward(self, x):\n",
    "        batch_size = x.size(0)\n",
    "        h0 = torch.zeros(self.num_stacked_layers, batch_size, self.hidden_size).to(device)\n",
    "        c0 = torch.zeros(self.num_stacked_layers, batch_size, self.hidden_size).to(device)\n",
    "\n",
    "        out, _ = self.lstm(x, (h0, c0))\n",
    "        out = self.fc(out[:, -1, :])\n",
    "        return out\n",
    "\n",
    "model = LSTM(1, 4, 1)\n",
    "model.to(device)\n",
    "model"
   ]
  },
  {
   "cell_type": "code",
   "execution_count": 139,
   "id": "914b43c0-9a9b-49b1-ba96-d28788112150",
   "metadata": {},
   "outputs": [],
   "source": [
    "def train_one_epoch():\n",
    "    model.train()\n",
    "    print(f'Epoch: {epoch + 1}')\n",
    "    running_loss = 0.0\n",
    "\n",
    "    for batch_index, batch in enumerate(train_loader):\n",
    "        x_batch, y_batch = batch[0].to(device), batch[1].to(device)\n",
    "\n",
    "        output = model(x_batch)\n",
    "        loss = loss_function(output, y_batch)\n",
    "        running_loss += loss.item()\n",
    "\n",
    "        optimizer.zero_grad()\n",
    "        loss.backward()\n",
    "        optimizer.step()\n",
    "\n",
    "        if batch_index % 100 == 99:  # print every 100 batches\n",
    "            avg_loss_across_batches = running_loss / 100\n",
    "            print('Batch {0}, Loss: {1:.3f}'.format(batch_index+1,\n",
    "                                                    avg_loss_across_batches))\n",
    "            running_loss = 0.0\n",
    "    print()"
   ]
  },
  {
   "cell_type": "code",
   "execution_count": 141,
   "id": "41509b65-0db8-43bd-90ab-b442215028c3",
   "metadata": {},
   "outputs": [],
   "source": [
    "def validate_one_epoch():\n",
    "    model.train(False)\n",
    "    running_loss = 0.0\n",
    "\n",
    "    for batch_index, batch in enumerate(test_loader):\n",
    "        x_batch, y_batch = batch[0].to(device), batch[1].to(device)\n",
    "\n",
    "        with torch.no_grad():\n",
    "            output = model(x_batch) #Xbatch predicts Y\n",
    "            loss = loss_function(output, y_batch) # Y and ground truth\n",
    "            running_loss += loss.item()\n",
    "\n",
    "    avg_loss_across_batches = running_loss / len(test_loader) #average loss value \n",
    "\n",
    "    print('Val Loss: {0:.3f}'.format(avg_loss_across_batches))\n",
    "    print('***************************************************')\n",
    "    print()"
   ]
  },
  {
   "cell_type": "code",
   "execution_count": 145,
   "id": "995846ce-d1b1-4f6e-94ba-3b09da8f3724",
   "metadata": {},
   "outputs": [
    {
     "name": "stdout",
     "output_type": "stream",
     "text": [
      "Epoch: 1\n",
      "Batch 100, Loss: 0.003\n",
      "\n",
      "Val Loss: 0.002\n",
      "***************************************************\n",
      "\n",
      "Epoch: 2\n",
      "Batch 100, Loss: 0.003\n",
      "\n",
      "Val Loss: 0.002\n",
      "***************************************************\n",
      "\n",
      "Epoch: 3\n",
      "Batch 100, Loss: 0.003\n",
      "\n",
      "Val Loss: 0.002\n",
      "***************************************************\n",
      "\n",
      "Epoch: 4\n",
      "Batch 100, Loss: 0.002\n",
      "\n",
      "Val Loss: 0.002\n",
      "***************************************************\n",
      "\n",
      "Epoch: 5\n",
      "Batch 100, Loss: 0.002\n",
      "\n",
      "Val Loss: 0.001\n",
      "***************************************************\n",
      "\n",
      "Epoch: 6\n",
      "Batch 100, Loss: 0.002\n",
      "\n",
      "Val Loss: 0.001\n",
      "***************************************************\n",
      "\n",
      "Epoch: 7\n",
      "Batch 100, Loss: 0.002\n",
      "\n",
      "Val Loss: 0.001\n",
      "***************************************************\n",
      "\n",
      "Epoch: 8\n",
      "Batch 100, Loss: 0.002\n",
      "\n",
      "Val Loss: 0.001\n",
      "***************************************************\n",
      "\n"
     ]
    }
   ],
   "source": [
    "#training loop \n",
    "learning_rate = 0.001\n",
    "num_epochs = 8\n",
    "loss_function = nn.MSELoss()\n",
    "\n",
    "#inserting Adam Algorithm from Pytorch Document\n",
    "optimizer = torch.optim.Adam(model.parameters(), lr=learning_rate)\n",
    "\n",
    "for epoch in range(num_epochs):\n",
    "    train_one_epoch()\n",
    "    validate_one_epoch()"
   ]
  },
  {
   "cell_type": "code",
   "execution_count": 153,
   "id": "19f41bcd-ab1e-439d-9477-3fdd27918746",
   "metadata": {},
   "outputs": [
    {
     "data": {
      "image/png": "[encoded data removed]",
      "text/plain": [
       "<Figure size 640x480 with 1 Axes>"
      ]
     },
     "metadata": {},
     "output_type": "display_data"
    }
   ],
   "source": [
    "with torch.no_grad():\n",
    "    predicted = model(X_train.to(device)).to('cpu').numpy()\n",
    "\n",
    "plt.plot(y_train, label='Actual Close')\n",
    "plt.plot(predicted, label='Predicted Close')\n",
    "plt.xlabel('Day')\n",
    "plt.ylabel('Close')\n",
    "plt.legend()\n",
    "plt.show()\n"
   ]
  },
  {
   "cell_type": "code",
   "execution_count": 155,
   "id": "17a2ad5e-005f-4294-bd3e-c351a48e2ef7",
   "metadata": {},
   "outputs": [
    {
     "data": {
      "text/plain": [
       "array([2.10986987, 2.1005718 , 2.15592036, ..., 1.79252497, 1.79262551,\n",
       "       1.79254301])"
      ]
     },
     "execution_count": 155,
     "metadata": {},
     "output_type": "execute_result"
    }
   ],
   "source": [
    "train_predictions = predicted.flatten()\n",
    "\n",
    "#zeros matrix that looks like the shifted_df\n",
    "dummies = np.zeros((X_train.shape[0], lookback+1))\n",
    "dummies[:, 0] = train_predictions\n",
    "dummies = scaler.inverse_transform(dummies)\n",
    "\n",
    "train_predictions = dc(dummies[:, 0])\n",
    "train_predictions"
   ]
  },
  {
   "cell_type": "code",
   "execution_count": 157,
   "id": "46e563bc-fa9e-41db-b37c-a2f16cfb626d",
   "metadata": {},
   "outputs": [
    {
     "data": {
      "text/plain": [
       "array([2.09450795, 2.2377231 , 2.21982095, ..., 1.77999996, 1.77999996,\n",
       "       1.77999996])"
      ]
     },
     "execution_count": 157,
     "metadata": {},
     "output_type": "execute_result"
    }
   ],
   "source": [
    "dummies = np.zeros((X_train.shape[0], lookback+1))\n",
    "dummies[:, 0] = y_train.flatten()\n",
    "dummies = scaler.inverse_transform(dummies)\n",
    "\n",
    "new_y_train = dc(dummies[:, 0])\n",
    "new_y_train"
   ]
  },
  {
   "cell_type": "code",
   "execution_count": null,
   "id": "e9a7f0e8-a30d-44ab-90ed-3f89710efbec",
   "metadata": {},
   "outputs": [],
   "source": []
  },
  {
   "cell_type": "code",
   "execution_count": null,
   "id": "1bfdc9c8-9fe4-4cfd-88f5-010cd5f1882f",
   "metadata": {},
   "outputs": [],
   "source": []
  },
  {
   "cell_type": "code",
   "execution_count": null,
   "id": "a6cebc42-3a84-4bd1-a6df-7c651d452135",
   "metadata": {},
   "outputs": [],
   "source": []
  }
 ],
 "metadata": {
  "kernelspec": {
   "display_name": "Python 3 (ipykernel)",
   "language": "python",
   "name": "python3"
  },
  "language_info": {
   "codemirror_mode": {
    "name": "ipython",
    "version": 3
   },
   "file_extension": ".py",
   "mimetype": "text/x-python",
   "name": "python",
   "nbconvert_exporter": "python",
   "pygments_lexer": "ipython3",
   "version": "3.11.5"
  }
 },
 "nbformat": 4,
 "nbformat_minor": 5
}
